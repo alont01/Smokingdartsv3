{
 "cells": [
  {
   "cell_type": "code",
   "execution_count": 1,
   "metadata": {},
   "outputs": [],
   "source": [
    "import cv2\n",
    "import matplotlib.pyplot as plt\n",
    "import os"
   ]
  },
  {
   "cell_type": "code",
   "execution_count": null,
   "metadata": {},
   "outputs": [],
   "source": [
    "#### take images ###\n",
    "\n",
    "def capture_image(camera, image_name, path):\n",
    "    ret, img = camera.read() # Read an image from camera\n",
    "    #cv2.normalize(img, img, 0, 255, cv2.NORM_MINMAX)\n",
    "    image_name = image_name + \".jpeg\"\n",
    "    cv2.imwrite(os.path.join(path, image_name), img)\n",
    "    camera.release()\n",
    "    print(image_name + \" captured!\")\n",
    "\n",
    "cap = cv2.VideoCapture(0)\n",
    "\n"
   ]
  }
 ],
 "metadata": {
  "kernelspec": {
   "display_name": "Python 3",
   "language": "python",
   "name": "python3"
  },
  "language_info": {
   "codemirror_mode": {
    "name": "ipython",
    "version": 3
   },
   "file_extension": ".py",
   "mimetype": "text/x-python",
   "name": "python",
   "nbconvert_exporter": "python",
   "pygments_lexer": "ipython3",
   "version": "3.11.1"
  },
  "orig_nbformat": 4
 },
 "nbformat": 4,
 "nbformat_minor": 2
}
